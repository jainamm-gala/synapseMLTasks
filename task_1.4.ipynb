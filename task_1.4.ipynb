{
 "cells": [
  {
   "cell_type": "code",
   "execution_count": 1,
   "metadata": {},
   "outputs": [
    {
     "name": "stdout",
     "output_type": "stream",
     "text": [
      "\n",
      "The average waiting time is: 3.25\n",
      "[(5, 2), (5, 4), (10, 3), (20, 1)]\n",
      "This is the list which has the arrival time and required time of tea.\n"
     ]
    }
   ],
   "source": [
    "# task 1.4\n",
    "# customers = [(5, 2), (5, 4), (10, 3), (20, 1)]\n",
    "\"\"\" customers is passed as a parameter\n",
    "    currentTime will track the time at which Iroh will finish the current order\n",
    "    totalWaitng will collect n sum up the total waiting time of all customers \"\"\"\n",
    "\n",
    "def avgWaqt(customers):  #main function/logic\n",
    "    currentTime = 0\n",
    "    totalWaiting = 0\n",
    "\n",
    "    for arrivalTime, timeReqd in customers:\n",
    "        if currentTime < arrivalTime:\n",
    "            currentTime = arrivalTime # yeh isly kiya coz jab next customer ki tea banegi tab uske liye current time update hote rahe\n",
    "        \n",
    "        waitingTime = currentTime - arrivalTime + timeReqd\n",
    "\n",
    "        totalWaiting += waitingTime\n",
    "\n",
    "        currentTime += timeReqd\n",
    "    \n",
    "    calAvgWaqt = totalWaiting / len(customers) #for finding avg timr\n",
    "    return calAvgWaqt \n",
    "\n",
    "n = int(input(\"Enter total number of customers: \"))\n",
    "customers = [] # list of tuples where each tuple contains the arrival time and the time required for the order.\n",
    "\n",
    "for i in range(n):\n",
    "    arrivalTime = int(input(f\"Enter arrival time of customer {i+1}: \"))\n",
    "    timeReqd = int(input(f\"Enter time required to prepare the order for customer {i+1}: \"))\n",
    "    customers.append((arrivalTime, timeReqd))\n",
    "\n",
    "calAvgWaqt = avgWaqt(customers)\n",
    "print(f\"\\nThe average waiting time is: {calAvgWaqt}\")\n",
    "print(f\"{customers}\\nThis is the list which has the arrival time and required time of tea.\")\n"
   ]
  }
 ],
 "metadata": {
  "kernelspec": {
   "display_name": "Python 3",
   "language": "python",
   "name": "python3"
  },
  "language_info": {
   "codemirror_mode": {
    "name": "ipython",
    "version": 3
   },
   "file_extension": ".py",
   "mimetype": "text/x-python",
   "name": "python",
   "nbconvert_exporter": "python",
   "pygments_lexer": "ipython3",
   "version": "3.12.4"
  }
 },
 "nbformat": 4,
 "nbformat_minor": 2
}
