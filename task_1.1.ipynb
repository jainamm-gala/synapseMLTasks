{
 "cells": [
  {
   "cell_type": "code",
   "execution_count": 6,
   "metadata": {},
   "outputs": [
    {
     "name": "stdout",
     "output_type": "stream",
     "text": [
      "Compatible DJ pairs with at least 30% overlap in artists : \n",
      "\n",
      "Stuart and Edith with an average overlap of 40.00%\n",
      "Kevin and Bob with an average overlap of 38.18%\n",
      "Stuart and Bob with an average overlap of 38.18%\n",
      "Bob and Edith with an average overlap of 38.18%\n",
      "Kevin and Edith with an average overlap of 30.00%\n"
     ]
    }
   ],
   "source": [
    "#task 1.1\n",
    "from itertools import combinations\n",
    "\n",
    "# sets of artists made by each DJ\n",
    "kevinArtists = {\"Halsey\", \"Taylor Swift\", \"Mitski\", \"Joji\", \n",
    "                \"Shawn Mendes\", \"Sabrina Carpenter\", \"Nicki Minaj\", \n",
    "                \"Conan Gray\", \"One Direction\", \"Justin Bieber\"}\n",
    "\n",
    "stuartArtists = {\"Kendrick Lamar\", \"Steve Lacy\", \"Tyler the Creator\", \n",
    "                 \"Joji\", \"The Weeknd\", \"Coldplay\", \"Kanye West\", \n",
    "                 \"Travis Scott\", \"Frank Ocean\", \"Brent Faiyaz\"}\n",
    "\n",
    "bobArtists = {\"Conan Gray\", \"Joji\", \"Dove Cameron\", \"Mitski\", \n",
    "              \"Arctic Monkeys\", \"Steve Lacy\", \"Kendrick Lamar\", \n",
    "              \"Isabel LaRosa\", \"Shawn Mendes\", \"Coldplay\", \"Lauv\"}\n",
    "\n",
    "edithArtists = {\"Metallica\", \"Billie Eilish\", \"The Weeknd\", \"Mitski\", \n",
    "                \"NF\", \"Conan Gray\", \"Kendrick Lamar\", \"Nicki Minaj\", \n",
    "                \"Kanye West\", \"Coldplay\"}\n",
    "\n",
    "# list of DJs and their respective artist sets(list of tuples)\n",
    "djs = [(\"Kevin\", kevinArtists), (\"Stuart\", stuartArtists), (\"Bob\", bobArtists), (\"Edith\", edithArtists)]\n",
    "\n",
    "def calculateOverlap(set1, set2): # 2) artists1 and artists2 comes here as arguments to these parameters \n",
    "    intersection = set1.intersection(set2) #common artists b/w djs ke liye\n",
    "    overlap1 = len(intersection) / len(set1) #calculating common artists percentage of an indiviual dj\n",
    "    overlap2 = len(intersection) / len(set2)\n",
    "    return overlap1, overlap2\n",
    "\n",
    "def findCompatibleDjPairs(djs):\n",
    "    compatiblePairs = [] # is a list having many tuples in it (list of tuples)\n",
    "\n",
    "    for (dj1, artists1), (dj2, artists2) in combinations(djs, 2):\n",
    "        overlap1, overlap2 = calculateOverlap(artists1, artists2) # 1) the arguments are passed from here to the above function ,3) the returned overlap is stored in these variables\n",
    "        \n",
    "        if overlap1 >= 0.3 and overlap2 >= 0.3:\n",
    "            averageOverlap = (overlap1 + overlap2)*100 / 2 #avg lerahe hai for pair percentage\n",
    "            compatiblePairs.append(((dj1, dj2), averageOverlap)) # will append dj1 , dj2 name in a tuple and their compatible percentage\n",
    "\n",
    "    compatiblePairs.sort(key=lambda item: item[1], reverse=True) #sorting using lambda key function\n",
    "    \n",
    "    return compatiblePairs\n",
    "\n",
    "compatiblePairsVar = findCompatibleDjPairs(djs) #collects the returned value from the function(findCompatibleDjPairs) and badmai it is assigned to the variable\n",
    "\n",
    "print(\"Compatible DJ pairs with at least 30% overlap in artists : \\n\")\n",
    "for (dj1, dj2), overlap in compatiblePairsVar:\n",
    "    print(f\"{dj1} and {dj2} with an average overlap of {overlap:.2f}%\")\n"
   ]
  }
 ],
 "metadata": {
  "kernelspec": {
   "display_name": "Python 3",
   "language": "python",
   "name": "python3"
  },
  "language_info": {
   "codemirror_mode": {
    "name": "ipython",
    "version": 3
   },
   "file_extension": ".py",
   "mimetype": "text/x-python",
   "name": "python",
   "nbconvert_exporter": "python",
   "pygments_lexer": "ipython3",
   "version": "3.12.4"
  }
 },
 "nbformat": 4,
 "nbformat_minor": 2
}
