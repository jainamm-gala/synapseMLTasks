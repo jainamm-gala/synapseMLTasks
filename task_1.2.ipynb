{
 "cells": [
  {
   "cell_type": "code",
   "execution_count": 1,
   "metadata": {},
   "outputs": [
    {
     "name": "stdout",
     "output_type": "stream",
     "text": [
      "Batarangs (5) is in stock\n",
      "Batmobile Tires (4) is in stock\n",
      "Explosive Batarangs (3) is in stock\n",
      "Grapple Gun (3) is in stock\n",
      "Tear Gas Grenades (2) is in stock\n",
      "Night Vision Goggles (1) is in stock\n",
      "Utility Belt (1) is in stock\n",
      "Batclaw (0) is out of stock\n",
      "Batsignal (0) is out of stock\n",
      "Smoke Pellets (0) is out of stock\n"
     ]
    }
   ],
   "source": [
    "# task 1.2\n",
    "gadgets = [\n",
    "    (\"Explosive Batarangs\", 3, True),\n",
    "    (\"Batarangs\", 5, True),\n",
    "    (\"Smoke Pellets\", 0, False),\n",
    "    (\"Tear Gas Grenades\", 2, True),\n",
    "    (\"Night Vision Goggles\", 1, True),\n",
    "    (\"Batclaw\", 0, False),\n",
    "    (\"Grapple Gun\", 3, True),\n",
    "    (\"Batsignal\", 0, False),\n",
    "    (\"Utility Belt\", 1, True),\n",
    "    (\"Batmobile Tires\", 4, True)\n",
    "]\n",
    "\n",
    "def sortedInventory(gadgets):\n",
    "\n",
    "    # sorting gadgets by name (third)\n",
    "    sortedGadgets = sorted(gadgets, key=lambda item: item[0])\n",
    "\n",
    "    # sorting by quantity in descending order (second priority)\n",
    "    sortedGadgets = sorted(sortedGadgets, key=lambda item: item[1], reverse=True)\n",
    "\n",
    "    # sorting by in-stock status (top priority)\n",
    "    sortedGadgets = sorted(sortedGadgets, key=lambda item: item[2], reverse=True)\n",
    "    return sortedGadgets\n",
    "\n",
    "sortedWeapons = sortedInventory(gadgets)\n",
    "for gadget in sortedWeapons:\n",
    "    stock = \"is out of stock\" if gadget[1] == 0 else \"is in stock\"\n",
    "    print(f\"{gadget[0]} ({gadget[1]}) {stock}\")\n"
   ]
  }
 ],
 "metadata": {
  "kernelspec": {
   "display_name": "Python 3",
   "language": "python",
   "name": "python3"
  },
  "language_info": {
   "codemirror_mode": {
    "name": "ipython",
    "version": 3
   },
   "file_extension": ".py",
   "mimetype": "text/x-python",
   "name": "python",
   "nbconvert_exporter": "python",
   "pygments_lexer": "ipython3",
   "version": "3.12.4"
  }
 },
 "nbformat": 4,
 "nbformat_minor": 2
}
